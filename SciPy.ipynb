{
 "cells": [
  {
   "cell_type": "markdown",
   "id": "0958177a",
   "metadata": {},
   "source": [
    "# Probability and Statistics Functions"
   ]
  },
  {
   "cell_type": "markdown",
   "id": "9c3f2e09",
   "metadata": {
    "collapsed": true
   },
   "source": [
    "Numpy and Scipy have been introduced earlier. Both packages contain powerful functionality for performing important computation for the purposes of simulation, probability distributions and statistics operations.\n",
    "\n",
    "NumPy random number generators are found in the module numpy.random. To import, use numpy and then calling np.random.rand, for example, although there are a number of ways to do this. \n",
    "\n",
    "## rand, rand_sample\n",
    "rand and rand_sample are uniform number generators, i.e. $U(0,1)$ which are identical except that rand takes a variable number of integer inputs - one for each dimension - while random_sample takes a $n$-element tuple. \n",
    "\n",
    "To sample $U(a,b), b>a$; multiply the output of the random_sample by $(b-a)$ and add $a$. So the following\n",
    "$(b-a)\\times$random_sample$()$+$a{\\sim}U(a,b)$\n",
    "\n",
    "Example use:"
   ]
  },
  {
   "cell_type": "code",
   "execution_count": 4,
   "id": "3adac4f5",
   "metadata": {},
   "outputs": [
    {
     "name": "stdout",
     "output_type": "stream",
     "text": [
      "[[[0.81614945 0.60320949 0.70575929 0.28846666]\n",
      "  [0.4088345  0.8588043  0.39357721 0.23967106]]\n",
      "\n",
      " [[0.64407256 0.68091335 0.35443689 0.43264249]\n",
      "  [0.43271886 0.71336188 0.49057873 0.34542678]]\n",
      "\n",
      " [[0.42587884 0.93476856 0.5228574  0.30553881]\n",
      "  [0.57596644 0.14965803 0.64242692 0.36806856]]]\n"
     ]
    },
    {
     "data": {
      "text/plain": [
       "numpy.ndarray"
      ]
     },
     "execution_count": 4,
     "metadata": {},
     "output_type": "execute_result"
    }
   ],
   "source": [
    "import numpy as np\n",
    "x=np.random.rand(3,2,4)\n",
    "print(x) # Exercise run a few times to get structure of array"
   ]
  },
  {
   "cell_type": "markdown",
   "id": "028ed07a",
   "metadata": {},
   "source": [
    "### randn and standard_normal\n",
    "randn and standard_normal $N(0,1)$ are standard normal random number generators. randn, like rand, takes a variable number of integer inputs, and standard_normal takes an $n$-element tuple. Both can be called with no arguments to generate a single standard normal (e.g. randn()). \n"
   ]
  },
  {
   "cell_type": "markdown",
   "id": "a0b16670",
   "metadata": {},
   "source": [
    "### Random numbers don't exist!\n",
    "Computer simulated random numbers are usually constructed from very complex but ultimately deterministic functions. These are not purely random, but are  pseudo-random. All pseudo-random numbers in NumPy use one core random number generator based on the Mersenne Twister, a generator which can produce a very long series of pseudo-random data before repeating (up to $2^{19937}-1$ non-repeating values). It also provides a much larger number of distributions to choose from. "
   ]
  },
  {
   "cell_type": "markdown",
   "id": "0ad4702d",
   "metadata": {},
   "source": [
    "### Random Array Functions 1\n",
    "The function shuffle() randomly reorders the elements of an array (only single element parameter). The original array is changed. "
   ]
  },
  {
   "cell_type": "code",
   "execution_count": 5,
   "id": "d085f832",
   "metadata": {},
   "outputs": [
    {
     "data": {
      "text/plain": [
       "list"
      ]
     },
     "execution_count": 5,
     "metadata": {},
     "output_type": "execute_result"
    }
   ],
   "source": [
    "import random # for using shuffle function\n",
    "a=[0,1,2,3,4,5,6,7,8,9,10]\n",
    "type(a)"
   ]
  },
  {
   "cell_type": "code",
   "execution_count": 6,
   "id": "177679bd",
   "metadata": {},
   "outputs": [],
   "source": [
    "random.shuffle(a) # run this cell a few times"
   ]
  },
  {
   "cell_type": "code",
   "execution_count": 7,
   "id": "f62e8679",
   "metadata": {},
   "outputs": [
    {
     "data": {
      "text/plain": [
       "[7, 5, 1, 9, 3, 4, 0, 8, 6, 2, 10]"
      ]
     },
     "execution_count": 7,
     "metadata": {},
     "output_type": "execute_result"
    }
   ],
   "source": [
    "a"
   ]
  },
  {
   "cell_type": "markdown",
   "id": "4f58875c",
   "metadata": {},
   "source": [
    "So the original list has changed. "
   ]
  },
  {
   "cell_type": "markdown",
   "id": "45550bc2",
   "metadata": {},
   "source": [
    "## Random number generators\n",
    "Numpy through numpy.random provides an efficient and simple way to produce numbers of specific distributions. Depending on the distribution parameters these take between 0 and 2 inputs. Here are some useful examples for finance applications, ranging from 0 to 2 inputs, as well as a tuple size for the output. \n",
    "### binomial\n",
    "The function binomial(n,p) generates a sample from the Binomial$(n,p)$ distribution. \n",
    "binomial(n,p,(𝑎,𝑏)) draws an array of dimension $a$ by $b$ from the Binomial(n, p) distribution.\n"
   ]
  },
  {
   "cell_type": "code",
   "execution_count": 8,
   "id": "fba501c0",
   "metadata": {},
   "outputs": [
    {
     "data": {
      "text/plain": [
       "9"
      ]
     },
     "execution_count": 8,
     "metadata": {},
     "output_type": "execute_result"
    }
   ],
   "source": [
    "np.random.binomial(30,0.25) # single variable"
   ]
  },
  {
   "cell_type": "code",
   "execution_count": 9,
   "id": "cd91f897",
   "metadata": {
    "scrolled": true
   },
   "outputs": [
    {
     "name": "stdout",
     "output_type": "stream",
     "text": [
      "[[6 2 6]\n",
      " [9 7 8]]\n"
     ]
    }
   ],
   "source": [
    "x=np.random.binomial(30,0.25,(2,3)) # 2 by 3 array of the above distribution\n",
    "print(x) # or simply x"
   ]
  },
  {
   "cell_type": "code",
   "execution_count": 10,
   "id": "36b8dddf",
   "metadata": {},
   "outputs": [
    {
     "data": {
      "text/plain": [
       "6.333333333333333"
      ]
     },
     "execution_count": 10,
     "metadata": {},
     "output_type": "execute_result"
    }
   ],
   "source": [
    "np.mean(x) # recall mean is np."
   ]
  },
  {
   "cell_type": "markdown",
   "id": "798c2bc1",
   "metadata": {},
   "source": [
    "There may be hidden precision in the output. "
   ]
  },
  {
   "cell_type": "markdown",
   "id": "6dc7273b",
   "metadata": {},
   "source": [
    "### uniform\n",
    "uniform() draws a uniform random variable on (0,1). uniform(low, high) generates a uniform on (l , h). uniform(low, high, (m,n)) generates a $m{\\times}n$ array of uniforms on (l , h)."
   ]
  },
  {
   "cell_type": "code",
   "execution_count": 11,
   "id": "c40cb76f",
   "metadata": {},
   "outputs": [
    {
     "data": {
      "text/plain": [
       "0.9424408279857883"
      ]
     },
     "execution_count": 11,
     "metadata": {},
     "output_type": "execute_result"
    }
   ],
   "source": [
    "np.random.uniform(0,1) # although the 2 parameters are not required for U(0,1)"
   ]
  },
  {
   "cell_type": "code",
   "execution_count": 12,
   "id": "e72b0bd6",
   "metadata": {},
   "outputs": [
    {
     "data": {
      "text/plain": [
       "0.9747309265091689"
      ]
     },
     "execution_count": 12,
     "metadata": {},
     "output_type": "execute_result"
    }
   ],
   "source": [
    "np.random.uniform()"
   ]
  },
  {
   "cell_type": "code",
   "execution_count": 13,
   "id": "fa80846e",
   "metadata": {},
   "outputs": [
    {
     "data": {
      "text/plain": [
       "1.7712712661722607"
      ]
     },
     "execution_count": 13,
     "metadata": {},
     "output_type": "execute_result"
    }
   ],
   "source": [
    "np.random.uniform(1,4) # a=1 b=4"
   ]
  },
  {
   "cell_type": "code",
   "execution_count": 14,
   "id": "8a6e9a72",
   "metadata": {},
   "outputs": [
    {
     "name": "stdout",
     "output_type": "stream",
     "text": [
      "[[0.09747282 0.47932255]\n",
      " [0.05420321 0.48829898]]\n"
     ]
    }
   ],
   "source": [
    "x=np.random.uniform(0,1,(2,2))\n",
    "print(x)"
   ]
  },
  {
   "cell_type": "code",
   "execution_count": 15,
   "id": "26ffe1d1",
   "metadata": {},
   "outputs": [
    {
     "name": "stdout",
     "output_type": "stream",
     "text": [
      "0.4793225514930305\n"
     ]
    }
   ],
   "source": [
    "print(x[0,1]) # use in the normal way for manipulating arrays"
   ]
  },
  {
   "cell_type": "markdown",
   "id": "4166eab3",
   "metadata": {},
   "source": [
    "### normal\n",
    "The function normal() draws from a standard Normal (Gaussian) distribution. normal(mu, sigma) generates draws from a Normal with mean $\\mu$ and standard deviation $\\sigma$. \n",
    "normal(mu, sigma, (n,m)) generates a n by m array of the above. normal(mu, sigma) is equivalent to\n",
    "$\\mu+\\sigma\\phi$ which gives $X{\\sim}N(\\mu,{\\sigma^2})$."
   ]
  },
  {
   "cell_type": "code",
   "execution_count": 16,
   "id": "2d53809f",
   "metadata": {},
   "outputs": [
    {
     "data": {
      "text/plain": [
       "array([ 1.74633062,  0.19665257,  0.10611721, ...,  0.43310252,\n",
       "       -0.51708124, -0.66713171])"
      ]
     },
     "execution_count": 16,
     "metadata": {},
     "output_type": "execute_result"
    }
   ],
   "source": [
    "x=np.random.normal(0,1,(10000))\n",
    "x"
   ]
  },
  {
   "cell_type": "code",
   "execution_count": 17,
   "id": "10d715f3",
   "metadata": {},
   "outputs": [
    {
     "data": {
      "text/plain": [
       "-0.016566341670056182"
      ]
     },
     "execution_count": 17,
     "metadata": {},
     "output_type": "execute_result"
    }
   ],
   "source": [
    "np.mean(x)"
   ]
  },
  {
   "cell_type": "markdown",
   "id": "2aeb3eaf",
   "metadata": {},
   "source": [
    "**The geometric mean can be calculated using the function stats.gmean() function which can be found in SciPy** The following is needed\n",
    "\n",
    "from scipy import stats"
   ]
  },
  {
   "cell_type": "markdown",
   "id": "c56df91c",
   "metadata": {},
   "source": [
    "We haven't said anything about the second moment. Numpy has functions for calculating the variance and standard deviation. If x is a data array then the variance and standard deviation, in turn, are given by \n",
    "\n",
    "np.variance(x) \n",
    "\n",
    "np.std(x)"
   ]
  },
  {
   "cell_type": "code",
   "execution_count": 18,
   "id": "13cb1bd0",
   "metadata": {},
   "outputs": [
    {
     "data": {
      "text/plain": [
       "0.9773300651520304"
      ]
     },
     "execution_count": 18,
     "metadata": {},
     "output_type": "execute_result"
    }
   ],
   "source": [
    "np.var(x)"
   ]
  },
  {
   "cell_type": "code",
   "execution_count": 19,
   "id": "1a847c32",
   "metadata": {},
   "outputs": [
    {
     "data": {
      "text/plain": [
       "0.9886000531822919"
      ]
     },
     "execution_count": 19,
     "metadata": {},
     "output_type": "execute_result"
    }
   ],
   "source": [
    "np.std(x)"
   ]
  },
  {
   "cell_type": "markdown",
   "id": "e9d97840",
   "metadata": {},
   "source": [
    "### lognormal\n",
    "lognormal() simulates a log-normal distribution with $\\mu=0$; $\\sigma=1.$\n",
    "lognormal(mu, sigma, (m,n)) generates a $m{\\times}n$ array of Log-Normally distributed data where the underlying Normal distribution has mean parameter $\\mu$ and parameter $\\sigma$. To use, here is an example"
   ]
  },
  {
   "cell_type": "code",
   "execution_count": 20,
   "id": "5833734e",
   "metadata": {},
   "outputs": [
    {
     "data": {
      "text/plain": [
       "array([[ 1.56406724,  1.06198906,  0.61144571],\n",
       "       [19.95202763,  2.60077642,  0.45517075],\n",
       "       [ 0.17813299,  0.48089553,  0.08181666]])"
      ]
     },
     "execution_count": 20,
     "metadata": {},
     "output_type": "execute_result"
    }
   ],
   "source": [
    "z=np.random.lognormal(0,1,(3,3))\n",
    "z"
   ]
  },
  {
   "cell_type": "markdown",
   "id": "1a0c5257",
   "metadata": {},
   "source": [
    "### Poisson\n",
    "poisson() generates a draw from a Poisson distribution with $\\lambda=1$. poisson(lambda) generates a draw from a Poisson distribution with expectation $\\lambda$. poisson(lambda, (n,m)) generates a $n\\times m$ array of draws from a Poisson distribution with expectation $\\lambda$.\n"
   ]
  },
  {
   "cell_type": "code",
   "execution_count": 21,
   "id": "751ee282",
   "metadata": {},
   "outputs": [
    {
     "data": {
      "text/plain": [
       "0"
      ]
     },
     "execution_count": 21,
     "metadata": {},
     "output_type": "execute_result"
    }
   ],
   "source": [
    "import numpy as np\n",
    "np.random.poisson()"
   ]
  },
  {
   "cell_type": "code",
   "execution_count": 22,
   "id": "d27d8bcc",
   "metadata": {},
   "outputs": [
    {
     "data": {
      "text/plain": [
       "5"
      ]
     },
     "execution_count": 22,
     "metadata": {},
     "output_type": "execute_result"
    }
   ],
   "source": [
    "np.random.poisson(4) #lambda=4"
   ]
  },
  {
   "cell_type": "code",
   "execution_count": 23,
   "id": "83c0cb1f",
   "metadata": {},
   "outputs": [
    {
     "name": "stdout",
     "output_type": "stream",
     "text": [
      "[[1 2]\n",
      " [3 1]] 1.75\n"
     ]
    }
   ],
   "source": [
    "x=np.random.poisson(3,(2,2)) # 2 by 2 with expected value=3\n",
    "print(x,np.mean(x))"
   ]
  },
  {
   "cell_type": "markdown",
   "id": "f8027706",
   "metadata": {},
   "source": [
    "**Seed is better.**\n",
    "numpy.random.seed is a more useful function for initializing the random number generator, and can be used in one of two ways.  seed() will initialize (or reinitialize) the random number generator using some actual random data provided by the operating system. seed(s) takes a vector of values (can be scalar) to initialize the random number generator at particular state.\n",
    "\n",
    "In the following sample code, calls to seed() produce different random numbers, since these reinitialize using random data from the computer, while calls to seed(0) produce the same (sequence) of random numbers. seed( s ) is particularly useful for producing simulation studies which are reproducible."
   ]
  },
  {
   "cell_type": "code",
   "execution_count": 24,
   "id": "ac5276cb",
   "metadata": {},
   "outputs": [
    {
     "data": {
      "text/plain": [
       "array([[-0.79930737,  1.06550136],\n",
       "       [-0.24645913,  0.85680645]])"
      ]
     },
     "execution_count": 24,
     "metadata": {},
     "output_type": "execute_result"
    }
   ],
   "source": [
    "np.random.seed(786) # 786 is my choice \n",
    "np.random.normal(0,1,(2,2))"
   ]
  },
  {
   "cell_type": "code",
   "execution_count": 25,
   "id": "596943fa",
   "metadata": {},
   "outputs": [
    {
     "data": {
      "text/plain": [
       "array([[-1.50576563, -1.0715346 ],\n",
       "       [-0.0270803 ,  0.70727793]])"
      ]
     },
     "execution_count": 25,
     "metadata": {},
     "output_type": "execute_result"
    }
   ],
   "source": [
    "np.random.normal(0,1,(2,2))"
   ]
  },
  {
   "cell_type": "code",
   "execution_count": 26,
   "id": "b829f978",
   "metadata": {},
   "outputs": [
    {
     "data": {
      "text/plain": [
       "array([[1.76405235, 0.40015721],\n",
       "       [0.97873798, 2.2408932 ]])"
      ]
     },
     "execution_count": 26,
     "metadata": {},
     "output_type": "execute_result"
    }
   ],
   "source": [
    "np.random.seed(0)\n",
    "np.random.normal(0,1,(2,2))"
   ]
  },
  {
   "cell_type": "code",
   "execution_count": 27,
   "id": "e920b665",
   "metadata": {},
   "outputs": [
    {
     "data": {
      "text/plain": [
       "array([[ 1.86755799, -0.97727788],\n",
       "       [ 0.95008842, -0.15135721]])"
      ]
     },
     "execution_count": 27,
     "metadata": {},
     "output_type": "execute_result"
    }
   ],
   "source": [
    "np.random.normal(0,1,(2,2))"
   ]
  },
  {
   "cell_type": "markdown",
   "id": "6b5e8b00",
   "metadata": {},
   "source": [
    "**numpy random.random**  This produces random draws from the continuous U(0.0,1.0) distribution"
   ]
  },
  {
   "cell_type": "code",
   "execution_count": 28,
   "id": "349f50b1",
   "metadata": {},
   "outputs": [
    {
     "data": {
      "text/plain": [
       "array([0.96366276, 0.38344152, 0.79172504])"
      ]
     },
     "execution_count": 28,
     "metadata": {},
     "output_type": "execute_result"
    }
   ],
   "source": [
    "np.random.random(3)"
   ]
  },
  {
   "cell_type": "markdown",
   "id": "b4d521df",
   "metadata": {},
   "source": [
    "**Further note on abbreviation** np.random. as a prefix is still cumbersome. The following can be done to further abbreviate this"
   ]
  },
  {
   "cell_type": "code",
   "execution_count": 29,
   "id": "0d1968b0",
   "metadata": {},
   "outputs": [
    {
     "data": {
      "text/plain": [
       "array([[ 1.76405235,  0.40015721,  0.97873798],\n",
       "       [ 2.2408932 ,  1.86755799, -0.97727788],\n",
       "       [ 0.95008842, -0.15135721, -0.10321885]])"
      ]
     },
     "execution_count": 29,
     "metadata": {},
     "output_type": "execute_result"
    }
   ],
   "source": [
    "np.random.seed(0)\n",
    "import numpy.random as npr # npr much shorter\n",
    "npr.normal(0,1,(3,3)) # earlier example "
   ]
  },
  {
   "cell_type": "code",
   "execution_count": 30,
   "id": "606709d0",
   "metadata": {},
   "outputs": [
    {
     "data": {
      "text/plain": [
       "array([[0.79172504, 0.52889492],\n",
       "       [0.56804456, 0.92559664]])"
      ]
     },
     "execution_count": 30,
     "metadata": {},
     "output_type": "execute_result"
    }
   ],
   "source": [
    "npr.random((2,2)) # shorthand for random.random"
   ]
  },
  {
   "cell_type": "markdown",
   "id": "f058da3c",
   "metadata": {},
   "source": [
    "Let's do some plots. Start by generating for different distributions"
   ]
  },
  {
   "cell_type": "code",
   "execution_count": 31,
   "id": "cb9c5aa1",
   "metadata": {},
   "outputs": [
    {
     "data": {
      "image/png": "[encoded data removed]",
      "text/plain": [
       "<Figure size 432x288 with 1 Axes>"
      ]
     },
     "metadata": {
      "needs_background": "light"
     },
     "output_type": "display_data"
    }
   ],
   "source": [
    "### Standard normals ###\n",
    "import matplotlib.pyplot as plt\n",
    "X = npr.standard_normal(5000)\n",
    "plt.hist(X,bins=100, color='pink')\n",
    "plt.title('$N(0,1)$')\n",
    "plt.show()\n"
   ]
  },
  {
   "cell_type": "code",
   "execution_count": 32,
   "id": "3f5af156",
   "metadata": {},
   "outputs": [
    {
     "data": {
      "image/png": "[encoded data removed]",
      "text/plain": [
       "<Figure size 432x288 with 1 Axes>"
      ]
     },
     "metadata": {
      "needs_background": "light"
     },
     "output_type": "display_data"
    }
   ],
   "source": [
    "### Normal distribution ###\n",
    "Y = npr.normal(-1, 3, (5000))\n",
    "plt.title('$N(-1,3)$')\n",
    "plt.hist(Y,bins=100)\n",
    "plt.show()"
   ]
  },
  {
   "cell_type": "code",
   "execution_count": 36,
   "id": "b2da5134",
   "metadata": {},
   "outputs": [
    {
     "data": {
      "image/png": "[encoded data removed]",
      "text/plain": [
       "<Figure size 432x288 with 1 Axes>"
      ]
     },
     "metadata": {
      "needs_background": "light"
     },
     "output_type": "display_data"
    }
   ],
   "source": [
    "### uniform ###\n",
    "Z = npr.uniform(-3, 3, (5000)) \n",
    "plt.hist(Z,bins=100)\n",
    "plt.title('U(-3,3)')\n",
    "plt.show()\n"
   ]
  },
  {
   "cell_type": "code",
   "execution_count": 37,
   "id": "2ecf1b18",
   "metadata": {},
   "outputs": [
    {
     "data": {
      "image/png": "[encoded data removed]",
      "text/plain": [
       "<Figure size 432x288 with 1 Axes>"
      ]
     },
     "metadata": {
      "needs_background": "light"
     },
     "output_type": "display_data"
    }
   ],
   "source": [
    "\n",
    "### lognormal ###\n",
    "\n",
    "W = npr.lognormal(0, 1, (5000))\n",
    "plt.hist(W,bins=100, color='cyan')\n",
    "plt.title('lognormal(0,1)')\n",
    "plt.autoscale(enable=True)\n",
    "plt.show()"
   ]
  },
  {
   "cell_type": "markdown",
   "id": "e3096f89",
   "metadata": {},
   "source": [
    "To obtain a cumulative distribution, simply add an extra function argument \n",
    "cumulative = True\n",
    "e.g."
   ]
  },
  {
   "cell_type": "code",
   "execution_count": 38,
   "id": "b8c545a1",
   "metadata": {},
   "outputs": [
    {
     "data": {
      "image/png": "[encoded data removed]",
      "text/plain": [
       "<Figure size 432x288 with 1 Axes>"
      ]
     },
     "metadata": {
      "needs_background": "light"
     },
     "output_type": "display_data"
    }
   ],
   "source": [
    "X = npr.standard_normal(50000)\n",
    "plt.hist(X,bins=100, cumulative = True, color='grey')\n",
    "plt.title('$N(0,1)$')\n",
    "plt.show()"
   ]
  },
  {
   "cell_type": "markdown",
   "id": "b940df02",
   "metadata": {},
   "source": [
    "### Subplots\n"
   ]
  },
  {
   "cell_type": "code",
   "execution_count": 39,
   "id": "b4c6dc95",
   "metadata": {},
   "outputs": [
    {
     "data": {
      "image/png": "[encoded data removed]",
      "text/plain": [
       "<Figure size 864x720 with 4 Axes>"
      ]
     },
     "metadata": {
      "needs_background": "light"
     },
     "output_type": "display_data"
    }
   ],
   "source": [
    "bins = np.linspace(-3,3,100) # define the width of the bins\n",
    "fig = plt.figure(figsize = (12,10)) # define size of figure \n",
    "\n",
    "\n",
    "sub1 = fig.add_subplot(221)\n",
    "plt.hist(X,bins,cumulative=True)\n",
    "plt.title('$N(0,1)$', fontsize = 14)\n",
    "plt.xlabel('Value', fontsize=12)\n",
    "plt.ylabel('Frequency', fontsize=12)\n",
    "\n",
    "sub2 = fig.add_subplot(222)\n",
    "plt.hist(Y,bins)\n",
    "plt.title('$N(-1,3)$', fontsize = 14)\n",
    "plt.xlabel('Value', fontsize=12)\n",
    "plt.ylabel('Frequency', fontsize=12)\n",
    "\n",
    "sub3 = fig.add_subplot(223)\n",
    "plt.hist(Z,bins)\n",
    "plt.title('$U(-3,3)$', fontsize = 14)\n",
    "plt.xlabel('Value', fontsize=12)\n",
    "plt.ylabel('Frequency', fontsize=12)\n",
    "\n",
    "sub4 = fig.add_subplot(224)\n",
    "plt.hist(W,bins)\n",
    "plt.title('$LN(0,1)$', fontsize = 14)\n",
    "plt.xlabel('Value', fontsize=12)\n",
    "plt.ylabel('Frequency', fontsize=12)\n",
    "\n",
    "plt.show()"
   ]
  },
  {
   "cell_type": "code",
   "execution_count": null,
   "id": "3edec08d",
   "metadata": {},
   "outputs": [],
   "source": []
  }
 ],
 "metadata": {
  "kernelspec": {
   "display_name": "Python 3 (ipykernel)",
   "language": "python",
   "name": "python3"
  },
  "language_info": {
   "codemirror_mode": {
    "name": "ipython",
    "version": 3
   },
   "file_extension": ".py",
   "mimetype": "text/x-python",
   "name": "python",
   "nbconvert_exporter": "python",
   "pygments_lexer": "ipython3",
   "version": "3.9.7"
  },
  "latex_envs": {
   "LaTeX_envs_menu_present": true,
   "autoclose": false,
   "autocomplete": true,
   "bibliofile": "biblio.bib",
   "cite_by": "apalike",
   "current_citInitial": 1,
   "eqLabelWithNumbers": true,
   "eqNumInitial": 1,
   "hotkeys": {
    "equation": "Ctrl-E",
    "itemize": "Ctrl-I"
   },
   "labels_anchors": false,
   "latex_user_defs": false,
   "report_style_numbering": false,
   "user_envs_cfg": false
  },
  "toc": {
   "base_numbering": 1,
   "nav_menu": {},
   "number_sections": true,
   "sideBar": true,
   "skip_h1_title": false,
   "title_cell": "Table of Contents",
   "title_sidebar": "Contents",
   "toc_cell": false,
   "toc_position": {},
   "toc_section_display": true,
   "toc_window_display": false
  },
  "varInspector": {
   "cols": {
    "lenName": 16,
    "lenType": 16,
    "lenVar": 40
   },
   "kernels_config": {
    "python": {
     "delete_cmd_postfix": "",
     "delete_cmd_prefix": "del ",
     "library": "var_list.py",
     "varRefreshCmd": "print(var_dic_list())"
    },
    "r": {
     "delete_cmd_postfix": ") ",
     "delete_cmd_prefix": "rm(",
     "library": "var_list.r",
     "varRefreshCmd": "cat(var_dic_list()) "
    }
   },
   "types_to_exclude": [
    "module",
    "function",
    "builtin_function_or_method",
    "instance",
    "_Feature"
   ],
   "window_display": false
  }
 },
 "nbformat": 4,
 "nbformat_minor": 5
}
