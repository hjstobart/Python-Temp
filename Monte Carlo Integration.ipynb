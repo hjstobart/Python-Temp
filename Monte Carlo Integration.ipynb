{
 "cells": [
  {
   "cell_type": "code",
   "execution_count": 58,
   "id": "e531ffcc",
   "metadata": {},
   "outputs": [],
   "source": [
    "import numpy as np\n",
    "import matplotlib.pyplot as plt\n",
    "import sympy as sp"
   ]
  },
  {
   "cell_type": "code",
   "execution_count": 106,
   "id": "28867584",
   "metadata": {},
   "outputs": [],
   "source": [
    "a = 0\n",
    "b = np.inf"
   ]
  },
  {
   "cell_type": "code",
   "execution_count": 107,
   "id": "8ff2c6b1",
   "metadata": {},
   "outputs": [],
   "source": [
    "x,y = sp.symbols('x,y')"
   ]
  },
  {
   "cell_type": "code",
   "execution_count": 108,
   "id": "1fcfe43b",
   "metadata": {},
   "outputs": [],
   "source": [
    "# Define y, our uniform random variable y in terms of x\n",
    "if a and b != np.inf:\n",
    "    eq = (x - a)/(b - a) - y\n",
    "else:\n",
    "    eq = 1/(1 + x) - y"
   ]
  },
  {
   "cell_type": "code",
   "execution_count": 109,
   "id": "fe768e01",
   "metadata": {},
   "outputs": [],
   "source": [
    "# Rearrange to get x in terms of y\n",
    "x = sp.solve(eq, x)[0]\n",
    "# Differentiate this expression wrt y\n",
    "dxdy = sp.diff(x, y)"
   ]
  },
  {
   "cell_type": "code",
   "execution_count": 110,
   "id": "f34cc3f4",
   "metadata": {},
   "outputs": [
    {
     "data": {
      "text/latex": [
       "$\\displaystyle - \\frac{1}{y} - \\frac{1 - y}{y^{2}}$"
      ],
      "text/plain": [
       "-1/y - (1 - y)/y**2"
      ]
     },
     "execution_count": 110,
     "metadata": {},
     "output_type": "execute_result"
    }
   ],
   "source": [
    "dxdy"
   ]
  },
  {
   "cell_type": "code",
   "execution_count": 126,
   "id": "ffbb5edd",
   "metadata": {},
   "outputs": [],
   "source": [
    "# Define the function\n",
    "func = (x/sp.sqrt((2*sp.pi)))*sp.exp(-0.5*x**2)\n",
    "#func = sp.exp(-x**3)"
   ]
  },
  {
   "cell_type": "code",
   "execution_count": 127,
   "id": "1f46182e",
   "metadata": {},
   "outputs": [
    {
     "data": {
      "text/latex": [
       "$\\displaystyle \\frac{\\sqrt{2} \\left(1 - y\\right)^{4} e^{- \\frac{0.5 \\left(1 - y\\right)^{2}}{y^{2}}}}{2 \\sqrt{\\pi} y^{4}}$"
      ],
      "text/plain": [
       "sqrt(2)*(1 - y)**4*exp(-0.5*(1 - y)**2/y**2)/(2*sqrt(pi)*y**4)"
      ]
     },
     "execution_count": 127,
     "metadata": {},
     "output_type": "execute_result"
    }
   ],
   "source": [
    "func"
   ]
  },
  {
   "cell_type": "code",
   "execution_count": 128,
   "id": "89d68561",
   "metadata": {},
   "outputs": [],
   "source": [
    "# Define our new integrand, which is the derivative of x wrt y multiplied by the function in terms of y\n",
    "integrand = dx*func"
   ]
  },
  {
   "cell_type": "code",
   "execution_count": 129,
   "id": "d20330b8",
   "metadata": {},
   "outputs": [
    {
     "data": {
      "text/latex": [
       "$\\displaystyle \\frac{\\sqrt{2} \\left(1 - y\\right)^{4} \\left(- \\frac{1}{y} - \\frac{1 - y}{y^{2}}\\right) e^{- \\frac{0.5 \\left(1 - y\\right)^{2}}{y^{2}}}}{2 \\sqrt{\\pi} y^{4}}$"
      ],
      "text/plain": [
       "sqrt(2)*(1 - y)**4*(-1/y - (1 - y)/y**2)*exp(-0.5*(1 - y)**2/y**2)/(2*sqrt(pi)*y**4)"
      ]
     },
     "execution_count": 129,
     "metadata": {},
     "output_type": "execute_result"
    }
   ],
   "source": [
    "integrand"
   ]
  },
  {
   "cell_type": "code",
   "execution_count": 130,
   "id": "e699e9dc",
   "metadata": {},
   "outputs": [],
   "source": [
    "sims = []\n",
    "\n",
    "for i in range(1000):\n",
    "    u = np.random.uniform()\n",
    "    sims.append(np.abs(integrand.subs(y,u)))\n",
    "\n",
    "estimate = np.mean(sims)"
   ]
  },
  {
   "cell_type": "code",
   "execution_count": 131,
   "id": "6c964412",
   "metadata": {},
   "outputs": [
    {
     "data": {
      "text/latex": [
       "$\\displaystyle \\frac{1.66978535945497 \\sqrt{2}}{\\sqrt{\\pi}}$"
      ],
      "text/plain": [
       "1.66978535945497*sqrt(2)/sqrt(pi)"
      ]
     },
     "execution_count": 131,
     "metadata": {},
     "output_type": "execute_result"
    }
   ],
   "source": [
    "estimate"
   ]
  }
 ],
 "metadata": {
  "kernelspec": {
   "display_name": "Python 3 (ipykernel)",
   "language": "python",
   "name": "python3"
  },
  "language_info": {
   "codemirror_mode": {
    "name": "ipython",
    "version": 3
   },
   "file_extension": ".py",
   "mimetype": "text/x-python",
   "name": "python",
   "nbconvert_exporter": "python",
   "pygments_lexer": "ipython3",
   "version": "3.9.7"
  },
  "latex_envs": {
   "LaTeX_envs_menu_present": true,
   "autoclose": false,
   "autocomplete": true,
   "bibliofile": "biblio.bib",
   "cite_by": "apalike",
   "current_citInitial": 1,
   "eqLabelWithNumbers": true,
   "eqNumInitial": 1,
   "hotkeys": {
    "equation": "Ctrl-E",
    "itemize": "Ctrl-I"
   },
   "labels_anchors": false,
   "latex_user_defs": false,
   "report_style_numbering": false,
   "user_envs_cfg": false
  },
  "varInspector": {
   "cols": {
    "lenName": 16,
    "lenType": 16,
    "lenVar": 40
   },
   "kernels_config": {
    "python": {
     "delete_cmd_postfix": "",
     "delete_cmd_prefix": "del ",
     "library": "var_list.py",
     "varRefreshCmd": "print(var_dic_list())"
    },
    "r": {
     "delete_cmd_postfix": ") ",
     "delete_cmd_prefix": "rm(",
     "library": "var_list.r",
     "varRefreshCmd": "cat(var_dic_list()) "
    }
   },
   "types_to_exclude": [
    "module",
    "function",
    "builtin_function_or_method",
    "instance",
    "_Feature"
   ],
   "window_display": false
  }
 },
 "nbformat": 4,
 "nbformat_minor": 5
}
