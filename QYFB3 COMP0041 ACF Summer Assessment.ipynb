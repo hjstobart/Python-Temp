{
 "cells": [
  {
   "cell_type": "markdown",
   "id": "711fc849",
   "metadata": {},
   "source": [
    "## COMP0041 Applied Computational Finance"
   ]
  },
  {
   "cell_type": "markdown",
   "id": "a9ee2e6a",
   "metadata": {},
   "source": [
    "Summer Assessment (80%) <br>\n",
    "Date: 09/05/2022 <br>\n",
    "Candidate: QYFB3 "
   ]
  },
  {
   "cell_type": "markdown",
   "id": "a6a00c98",
   "metadata": {},
   "source": [
    "## Question 1"
   ]
  },
  {
   "cell_type": "code",
   "execution_count": 3,
   "id": "d370e03c",
   "metadata": {},
   "outputs": [
    {
     "ename": "AttributeError",
     "evalue": "'tuple' object has no attribute 'append'",
     "output_type": "error",
     "traceback": [
      "\u001b[0;31m---------------------------------------------------------------------------\u001b[0m",
      "\u001b[0;31mAttributeError\u001b[0m                            Traceback (most recent call last)",
      "\u001b[0;32m/var/folders/kn/9_90m1l503d25lr9smfr026m0000gn/T/ipykernel_69565/1873865634.py\u001b[0m in \u001b[0;36m<module>\u001b[0;34m\u001b[0m\n\u001b[1;32m      1\u001b[0m \u001b[0;31m# Part (a)\u001b[0m\u001b[0;34m\u001b[0m\u001b[0;34m\u001b[0m\u001b[0m\n\u001b[1;32m      2\u001b[0m \u001b[0ma\u001b[0m \u001b[0;34m=\u001b[0m \u001b[0;36m2\u001b[0m\u001b[0;34m,\u001b[0m\u001b[0;36m3\u001b[0m\u001b[0;34m,\u001b[0m\u001b[0;36m4\u001b[0m\u001b[0;34m\u001b[0m\u001b[0;34m\u001b[0m\u001b[0m\n\u001b[0;32m----> 3\u001b[0;31m \u001b[0ma\u001b[0m\u001b[0;34m.\u001b[0m\u001b[0mappend\u001b[0m\u001b[0;34m(\u001b[0m\u001b[0;36m5\u001b[0m\u001b[0;34m)\u001b[0m\u001b[0;34m\u001b[0m\u001b[0;34m\u001b[0m\u001b[0m\n\u001b[0m",
      "\u001b[0;31mAttributeError\u001b[0m: 'tuple' object has no attribute 'append'"
     ]
    }
   ],
   "source": [
    "# Part (a)\n",
    "a = 2,3,4\n",
    "a.append(5)"
   ]
  },
  {
   "cell_type": "code",
   "execution_count": 9,
   "id": "9684bca3",
   "metadata": {},
   "outputs": [],
   "source": [
    "# Part (b)\n",
    "def angles():\n",
    "    print('This function converts degrees to radians.')\n",
    "    \n",
    "    degree = float(input('Please enter the value of degrees to be converted: '))\n",
    "    \n",
    "    radian = (degree*(22/7))/180\n",
    "    \n",
    "    print('Angle in radians: ', radian)"
   ]
  },
  {
   "cell_type": "code",
   "execution_count": 10,
   "id": "80cae43d",
   "metadata": {},
   "outputs": [
    {
     "name": "stdout",
     "output_type": "stream",
     "text": [
      "This function converts degrees to radians.\n",
      "Please enter the value of degrees to be converted: 218\n",
      "Angle in radians:  3.806349206349206\n"
     ]
    }
   ],
   "source": [
    "angles()"
   ]
  },
  {
   "cell_type": "code",
   "execution_count": 30,
   "id": "e5a704ea",
   "metadata": {},
   "outputs": [],
   "source": [
    "# Part (c)\n",
    "def product():\n",
    "    # This function computes the product of 2^n, for n=1,...,N\n",
    "    \n",
    "    N = int(input('Please enter a positive integer: '))\n",
    "    \n",
    "    prod = 1\n",
    "    for n in range(1,N+1):\n",
    "        prod *= 2**n\n",
    "    \n",
    "    print('The total is: ', prod)"
   ]
  },
  {
   "cell_type": "code",
   "execution_count": 31,
   "id": "037346cb",
   "metadata": {},
   "outputs": [
    {
     "name": "stdout",
     "output_type": "stream",
     "text": [
      "Please enter a positive integer: 5\n",
      "The total is:  32768\n"
     ]
    }
   ],
   "source": [
    "product()"
   ]
  },
  {
   "cell_type": "code",
   "execution_count": 47,
   "id": "b820069f",
   "metadata": {},
   "outputs": [
    {
     "data": {
      "text/plain": [
       "Text(1, 6, 'Positive Exponential')"
      ]
     },
     "execution_count": 47,
     "metadata": {},
     "output_type": "execute_result"
    },
    {
     "data": {
      "image/png": "[encoded data removed]",
      "text/plain": [
       "<Figure size 432x288 with 1 Axes>"
      ]
     },
     "metadata": {
      "needs_background": "light"
     },
     "output_type": "display_data"
    }
   ],
   "source": [
    "# Part (d)\n",
    "import numpy as np\n",
    "import matplotlib.pyplot as plt\n",
    "\n",
    "x = np.linspace(-1,2,16)\n",
    "y1 = np.exp(x)\n",
    "y2 = np.exp(-x)\n",
    "\n",
    "plt.plot(x,y1,color='0.15',marker='*')\n",
    "plt.plot(x,y2,color='palevioletred', marker='o')\n",
    "\n",
    "plt.text(-1,4,'Negative Exponential')\n",
    "plt.text(1,6,'Positive Exponential')\n",
    "\n",
    "#plt.savefig('C:\\Users\\BoJo\\Desktop\\Q1d.pdf')"
   ]
  },
  {
   "cell_type": "code",
   "execution_count": null,
   "id": "18254e3a",
   "metadata": {},
   "outputs": [],
   "source": []
  },
  {
   "cell_type": "code",
   "execution_count": null,
   "id": "937d1a00",
   "metadata": {},
   "outputs": [],
   "source": []
  },
  {
   "cell_type": "code",
   "execution_count": null,
   "id": "05114791",
   "metadata": {},
   "outputs": [],
   "source": []
  },
  {
   "cell_type": "markdown",
   "id": "59b5e7fc",
   "metadata": {},
   "source": [
    "## Question 2 "
   ]
  },
  {
   "cell_type": "code",
   "execution_count": 49,
   "id": "dab8a894",
   "metadata": {},
   "outputs": [
    {
     "name": "stdout",
     "output_type": "stream",
     "text": [
      "2.010674907412324\n"
     ]
    }
   ],
   "source": [
    "# Part (a)\n",
    "import numpy as np\n",
    "import numpy.random as npr\n",
    "\n",
    "U = npr.rand(10000)\n",
    "x = np.pi*U\n",
    "func = np.sin(x)\n",
    "area = np.pi*np.mean(func)\n",
    "print(area)"
   ]
  },
  {
   "cell_type": "code",
   "execution_count": null,
   "id": "9362cd91",
   "metadata": {},
   "outputs": [],
   "source": []
  },
  {
   "cell_type": "code",
   "execution_count": 73,
   "id": "130a0ba8",
   "metadata": {},
   "outputs": [],
   "source": [
    "def simulate_path(s0, mu, sigma, horizon, timesteps, n_sims):\n",
    "    \n",
    "    # Set the random seed for reproducibility\n",
    "    # Same seed leads to the same set of random values\n",
    "    #np.random.seed(786) \n",
    "\n",
    "    # Read parameters\n",
    "    S0 = s0         # initial spot level\n",
    "    r = mu          # mu = rf in risk neutral framework \n",
    "    t0 = 0\n",
    "    T = horizon     # time horizion\n",
    "    t = timesteps   # number of time steps\n",
    "    n = n_sims      # number of simulation\n",
    "    \n",
    "    # Define dt\n",
    "    dt = T/t        # length of time interval  \n",
    "    \n",
    "    # Simulating 'n' asset price paths with 't' timesteps\n",
    "    S = np.zeros((t, n))\n",
    "    S[0] = S0\n",
    "\n",
    "    for i in range(0, t-1):\n",
    "        phi = np.random.standard_normal(n)                                                   # psuedo random numbers\n",
    "        #S[i+1] = S[i] * (1 + r * dt + sigma * sqrt(dt) * phi)                            # vectorized operation per timesteps\n",
    "        S[i+1] = S[i] * np.exp((r - 0.5 * sigma ** 2) * dt + sigma * np.sqrt(dt) * phi)         # alternate form\n",
    "       # print(S)\n",
    "        \n",
    "    return S"
   ]
  },
  {
   "cell_type": "code",
   "execution_count": 77,
   "id": "409a0452",
   "metadata": {},
   "outputs": [
    {
     "name": "stdout",
     "output_type": "stream",
     "text": [
      "5.843445273339108\n"
     ]
    }
   ],
   "source": [
    "# Call the simulation function\n",
    "S = simulate_path(100, 0.05, 0.20, 1, 1000, 100000)\n",
    "\n",
    "# Define parameters\n",
    "r = 0.05; T = 1; t0=0\n",
    "\n",
    "# =======================\n",
    "# Arithmetic \n",
    "# =======================\n",
    "\n",
    "# Arithmetic average price\n",
    "A = S.mean(axis=0) \n",
    "\n",
    "A_call_ = np.exp(-r*(T-t0)) * np.mean(np.maximum(S[-1] - A, 0))\n",
    "\n",
    "print(A_call_)"
   ]
  },
  {
   "cell_type": "code",
   "execution_count": null,
   "id": "fd1f773b",
   "metadata": {},
   "outputs": [],
   "source": []
  },
  {
   "cell_type": "code",
   "execution_count": null,
   "id": "b40014bd",
   "metadata": {},
   "outputs": [],
   "source": []
  },
  {
   "cell_type": "code",
   "execution_count": null,
   "id": "0c97f5ff",
   "metadata": {},
   "outputs": [],
   "source": []
  },
  {
   "cell_type": "code",
   "execution_count": null,
   "id": "914ef044",
   "metadata": {},
   "outputs": [],
   "source": []
  }
 ],
 "metadata": {
  "kernelspec": {
   "display_name": "Python 3 (ipykernel)",
   "language": "python",
   "name": "python3"
  },
  "language_info": {
   "codemirror_mode": {
    "name": "ipython",
    "version": 3
   },
   "file_extension": ".py",
   "mimetype": "text/x-python",
   "name": "python",
   "nbconvert_exporter": "python",
   "pygments_lexer": "ipython3",
   "version": "3.9.7"
  },
  "latex_envs": {
   "LaTeX_envs_menu_present": true,
   "autoclose": false,
   "autocomplete": true,
   "bibliofile": "biblio.bib",
   "cite_by": "apalike",
   "current_citInitial": 1,
   "eqLabelWithNumbers": true,
   "eqNumInitial": 1,
   "hotkeys": {
    "equation": "Ctrl-E",
    "itemize": "Ctrl-I"
   },
   "labels_anchors": false,
   "latex_user_defs": false,
   "report_style_numbering": false,
   "user_envs_cfg": false
  }
 },
 "nbformat": 4,
 "nbformat_minor": 5
}
