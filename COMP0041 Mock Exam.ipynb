{
 "cells": [
  {
   "cell_type": "markdown",
   "id": "54d7e7eb",
   "metadata": {},
   "source": [
    "## COMP0041 Applied Computational Finance"
   ]
  },
  {
   "cell_type": "markdown",
   "id": "3dfc0d1c",
   "metadata": {},
   "source": [
    "### Mock Exam\n",
    "---"
   ]
  },
  {
   "cell_type": "markdown",
   "id": "3b809211",
   "metadata": {},
   "source": [
    "#### Question 1"
   ]
  },
  {
   "cell_type": "markdown",
   "id": "1255db37",
   "metadata": {},
   "source": [
    "_Part (a)_"
   ]
  },
  {
   "cell_type": "code",
   "execution_count": 27,
   "id": "9f3a6fc7",
   "metadata": {},
   "outputs": [],
   "source": [
    "def stringfunction(s):\n",
    "    s = str(s)\n",
    "    for i in range(0,len(s)):\n",
    "        print(s[i])\n",
    "        print(s[i])"
   ]
  },
  {
   "cell_type": "code",
   "execution_count": 28,
   "id": "4d9fac60",
   "metadata": {},
   "outputs": [
    {
     "name": "stdout",
     "output_type": "stream",
     "text": [
      "a\n",
      "a\n",
      "b\n",
      "b\n",
      "a\n",
      "a\n",
      "c\n",
      "c\n"
     ]
    }
   ],
   "source": [
    "stringfunction('abac')"
   ]
  },
  {
   "cell_type": "markdown",
   "id": "80b76e6e",
   "metadata": {},
   "source": [
    "_Part (b)_"
   ]
  },
  {
   "cell_type": "code",
   "execution_count": 25,
   "id": "156f493a",
   "metadata": {},
   "outputs": [],
   "source": [
    "import os\n",
    "\n",
    "def tempconverter():\n",
    "    print('This function converts farenheit to centigrade.')\n",
    "    \n",
    "    #file = open('/Users/harry/Desktop/temp.txt','w')\n",
    "    #file.write('Converted temperature(s):\\n')\n",
    "    #file.close()\n",
    "    \n",
    "    far = float(input('Please enter a temperature: '))\n",
    "    cent = (far-32)*(5/9)\n",
    "    \n",
    "    file = open('/Users/harry/Desktop/temp.txt', 'a')\n",
    "    file.write(str(cent))\n",
    "    file.write('\\n')\n",
    "    file.close()\n",
    "    "
   ]
  },
  {
   "cell_type": "code",
   "execution_count": 28,
   "id": "952f8ca7",
   "metadata": {},
   "outputs": [
    {
     "name": "stdout",
     "output_type": "stream",
     "text": [
      "This function converts farenheit to centigrade.\n",
      "Please enter a temperature: 80\n"
     ]
    }
   ],
   "source": [
    "tempconverter()"
   ]
  },
  {
   "cell_type": "markdown",
   "id": "88465270",
   "metadata": {},
   "source": [
    "_Part (c)_"
   ]
  },
  {
   "cell_type": "code",
   "execution_count": 29,
   "id": "84194ceb",
   "metadata": {},
   "outputs": [],
   "source": [
    "def function3():\n",
    "    N = abs(int(input('Please enter a positive integer: ')))\n",
    "    \n",
    "    total = 0\n",
    "    for n in range(1,N+1):\n",
    "        total += n**n\n",
    "    \n",
    "    return total"
   ]
  },
  {
   "cell_type": "code",
   "execution_count": 30,
   "id": "c3596eef",
   "metadata": {},
   "outputs": [
    {
     "name": "stdout",
     "output_type": "stream",
     "text": [
      "Please enter a positive integer: 12\n"
     ]
    },
    {
     "data": {
      "text/plain": [
       "9211817190184"
      ]
     },
     "execution_count": 30,
     "metadata": {},
     "output_type": "execute_result"
    }
   ],
   "source": [
    "function3()"
   ]
  },
  {
   "cell_type": "markdown",
   "id": "9b633c2a",
   "metadata": {},
   "source": [
    "_Part (d)_"
   ]
  },
  {
   "cell_type": "code",
   "execution_count": 46,
   "id": "eec71bfd",
   "metadata": {},
   "outputs": [
    {
     "name": "stdout",
     "output_type": "stream",
     "text": [
      "2.219008206615435\n"
     ]
    }
   ],
   "source": [
    "#(i)\n",
    "import numpy as np\n",
    "\n",
    "x = np.linspace(0,1,num=100, endpoint=True)\n",
    "y = x*np.exp(x) + 2*x*np.sqrt(1+x**2)\n",
    "\n",
    "area = np.trapz(y,x)\n",
    "\n",
    "print(area)"
   ]
  },
  {
   "cell_type": "code",
   "execution_count": 62,
   "id": "ed378163",
   "metadata": {},
   "outputs": [],
   "source": [
    "#(ii)\n",
    "import sympy as sp\n",
    "from sympy import init_printing\n",
    "init_printing()"
   ]
  },
  {
   "cell_type": "code",
   "execution_count": 63,
   "id": "b9063215",
   "metadata": {},
   "outputs": [
    {
     "data": {
      "image/png": "[encoded data removed]",
      "text/latex": [
       "$\\displaystyle x \\cos{\\left(x \\right)} + \\sin{\\left(x \\right)} + \\frac{2}{x}$"
      ],
      "text/plain": [
       "                    2\n",
       "x⋅cos(x) + sin(x) + ─\n",
       "                    x"
      ]
     },
     "execution_count": 63,
     "metadata": {},
     "output_type": "execute_result"
    }
   ],
   "source": [
    "x,y = sp.symbols('x y') # define symbols\n",
    "y = x*sp.sin(x) + sp.log(x**2)\n",
    "sp.diff(y,x)"
   ]
  },
  {
   "cell_type": "code",
   "execution_count": 73,
   "id": "85d9140b",
   "metadata": {},
   "outputs": [
    {
     "data": {
      "image/png": "[encoded data removed]",
      "text/latex": [
       "$\\displaystyle \\sqrt{34}$"
      ],
      "text/plain": [
       "√34"
      ]
     },
     "execution_count": 73,
     "metadata": {},
     "output_type": "execute_result"
    }
   ],
   "source": [
    "#(iii)\n",
    "arg((-5-3*sp.I))\n",
    "\n",
    "sp.sqrt(sp.re((-5-3*sp.I))**2 + sp.im((-5-3*sp.I))**2 )"
   ]
  },
  {
   "cell_type": "code",
   "execution_count": 74,
   "id": "c747c21c",
   "metadata": {},
   "outputs": [
    {
     "data": {
      "text/plain": [
       "array([-41.30769231,  -4.30769231,  33.07692308])"
      ]
     },
     "execution_count": 74,
     "metadata": {},
     "output_type": "execute_result"
    }
   ],
   "source": [
    "#(iv)\n",
    "A = np.array([[2,5,2],[3,-2,4],[-6,1,-7]])\n",
    "b = np.array([-38,17,12])\n",
    "np.linalg.solve(A,b)"
   ]
  },
  {
   "cell_type": "markdown",
   "id": "71befdbd",
   "metadata": {},
   "source": [
    "---\n",
    "#### Question 2"
   ]
  },
  {
   "cell_type": "markdown",
   "id": "80241962",
   "metadata": {},
   "source": [
    "_Part (a)_"
   ]
  },
  {
   "cell_type": "code",
   "execution_count": 14,
   "id": "aa7013a0",
   "metadata": {},
   "outputs": [],
   "source": [
    "import numpy as np\n",
    "def option_price(s0, strike, mu, sigma, horizon, timesteps, n_sims):\n",
    "    \n",
    "    # Set the random seed for reproducibility\n",
    "    # Same seed leads to the same set of random values\n",
    "    #np.random.seed(786) \n",
    "\n",
    "    # Read parameters\n",
    "    S0 = s0         # initial spot level\n",
    "    E = strike      # strike price\n",
    "    r = mu          # mu = rf in risk neutral framework \n",
    "    T = horizon     # time horizion\n",
    "    n = timesteps   # number of time steps\n",
    "    M = n_sims      # number of simulation\n",
    "    \n",
    "    # Define dt\n",
    "    dt = T/n        # length of time interval  \n",
    "    \n",
    "    # Simulating 'n' asset price paths with 't' timesteps\n",
    "    S = np.zeros((n, M))\n",
    "    S[0] = S0\n",
    "\n",
    "    for i in range(0, n-1):\n",
    "        phi = np.random.standard_normal(M)                                                   # psuedo random numbers\n",
    "        #S[i+1] = S[i] * (1 + r * dt + sigma * sqrt(dt) * phi)                            # vectorized operation per timesteps\n",
    "        S[i+1] = S[i] * np.exp((r - 0.5 * sigma ** 2) * dt + sigma * np.sqrt(dt) * phi)         # alternate form\n",
    "\n",
    "    Call = np.exp(-r*T)* np.mean(np.maximum(S[-1] - E, 0))\n",
    "    Put = np.exp(-r*T)* np.mean(np.maximum(E - S[-1], 0))        \n",
    "    \n",
    "    print(f'European Call Option Value: {Call:0.4f}')\n",
    "    print(f'European Put Option Value: {Put:0.4f}')"
   ]
  },
  {
   "cell_type": "code",
   "execution_count": 15,
   "id": "76ecda3f",
   "metadata": {},
   "outputs": [
    {
     "name": "stdout",
     "output_type": "stream",
     "text": [
      "European Call Option Value: 9.6570\n",
      "European Put Option Value: 7.0707\n"
     ]
    }
   ],
   "source": [
    "option_price(75, 80, 0.05, 0.20, 2, 100, 10000)"
   ]
  },
  {
   "cell_type": "code",
   "execution_count": null,
   "id": "46971946",
   "metadata": {},
   "outputs": [],
   "source": []
  }
 ],
 "metadata": {
  "kernelspec": {
   "display_name": "Python 3 (ipykernel)",
   "language": "python",
   "name": "python3"
  },
  "language_info": {
   "codemirror_mode": {
    "name": "ipython",
    "version": 3
   },
   "file_extension": ".py",
   "mimetype": "text/x-python",
   "name": "python",
   "nbconvert_exporter": "python",
   "pygments_lexer": "ipython3",
   "version": "3.9.7"
  },
  "latex_envs": {
   "LaTeX_envs_menu_present": true,
   "autoclose": false,
   "autocomplete": true,
   "bibliofile": "biblio.bib",
   "cite_by": "apalike",
   "current_citInitial": 1,
   "eqLabelWithNumbers": true,
   "eqNumInitial": 1,
   "hotkeys": {
    "equation": "Ctrl-E",
    "itemize": "Ctrl-I"
   },
   "labels_anchors": false,
   "latex_user_defs": false,
   "report_style_numbering": false,
   "user_envs_cfg": false
  }
 },
 "nbformat": 4,
 "nbformat_minor": 5
}
