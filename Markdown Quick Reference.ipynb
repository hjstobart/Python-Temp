{
 "cells": [
  {
   "cell_type": "markdown",
   "id": "b7ae7918",
   "metadata": {},
   "source": [
    "# Heading 1"
   ]
  },
  {
   "cell_type": "markdown",
   "id": "ad5e46b7",
   "metadata": {},
   "source": [
    "A comment goes in one of these... <!-- --> <!-- Note that you can't see this comment unless you view the code, so it works -->\n",
    "Seems fairly long winded but oh well."
   ]
  },
  {
   "cell_type": "markdown",
   "id": "10309f84",
   "metadata": {},
   "source": [
    "We then have subsection by increasing the number of hashtags"
   ]
  },
  {
   "cell_type": "markdown",
   "id": "f61ae55b",
   "metadata": {},
   "source": [
    "## Subheading 1"
   ]
  },
  {
   "cell_type": "markdown",
   "id": "ddbe8715",
   "metadata": {},
   "source": [
    "### Subsubheading 1"
   ]
  },
  {
   "cell_type": "markdown",
   "id": "f647d37c",
   "metadata": {},
   "source": [
    "Alternatively we can use HTML using \n",
    "<h1> Heading using HTML <h1>"
   ]
  },
  {
   "cell_type": "markdown",
   "id": "3e1c8f98",
   "metadata": {},
   "source": [
    "**Bold font uses double asterisks**\n",
    "*Single asterisks makes it italic*"
   ]
  },
  {
   "cell_type": "markdown",
   "id": "eea1c434",
   "metadata": {},
   "source": [
    "Alternatively I can use __double underscores to make it bold__"
   ]
  },
  {
   "cell_type": "markdown",
   "id": "c1d7c5e8",
   "metadata": {},
   "source": [
    "Or you can use _single underscore for italic_"
   ]
  },
  {
   "cell_type": "markdown",
   "id": "5f8009a7",
   "metadata": {},
   "source": [
    "<p> For long flowing paragraphs we can use good old p in the brackets like this <p>"
   ]
  },
  {
   "cell_type": "markdown",
   "id": "e6ed3d87",
   "metadata": {},
   "source": [
    "We can also use <strong> this for bold text </strong> and <em> this for italics</em> so many options"
   ]
  },
  {
   "cell_type": "markdown",
   "id": "f37abd88",
   "metadata": {},
   "source": [
    "* Bullet points\n",
    "* are done with stars"
   ]
  },
  {
   "cell_type": "markdown",
   "id": "76714cea",
   "metadata": {},
   "source": [
    "There are different styles of bullet points\n",
    "* L 1\n",
    "    * L 2\n",
    "        * L 3 and so on"
   ]
  },
  {
   "cell_type": "markdown",
   "id": "fa8cdc28",
   "metadata": {},
   "source": [
    "1. Numbered lists \n",
    "2. can be done like this"
   ]
  },
  {
   "cell_type": "markdown",
   "id": "e4b774aa",
   "metadata": {},
   "source": [
    "That manual, we can do one better\n",
    "1. Here is\n",
    "1. Something better\n",
    "1. TO insert random elements into the list"
   ]
  },
  {
   "cell_type": "markdown",
   "id": "e03ea5af",
   "metadata": {},
   "source": [
    "What is really cool is the checked lists\n",
    "- [x] Here is \n",
    "- [ ] a checked\n",
    "- [x] list"
   ]
  },
  {
   "cell_type": "markdown",
   "id": "f620e426",
   "metadata": {},
   "source": [
    "A line can be done with three stars\n",
    "***"
   ]
  },
  {
   "cell_type": "markdown",
   "id": "ffe84a4a",
   "metadata": {},
   "source": [
    "We can highlight cool stuff <mark> like this </mark>"
   ]
  },
  {
   "cell_type": "markdown",
   "id": "bc64a9df",
   "metadata": {},
   "source": [
    "`Here is a test of some stuff`"
   ]
  },
  {
   "cell_type": "markdown",
   "id": "8c7ca206",
   "metadata": {},
   "source": [
    "This thing is called a backtick ```"
   ]
  },
  {
   "cell_type": "markdown",
   "id": "52d47efe",
   "metadata": {},
   "source": [
    "We can use it to highlight stuff (above) and to make code look good in markdown"
   ]
  },
  {
   "cell_type": "markdown",
   "id": "47ff513b",
   "metadata": {},
   "source": [
    "Like this\n",
    "``` python\n",
    "import math as m\n",
    "    def function(x):\n",
    "        y = m.sin(x)+m.cos(x)\n",
    "        return y\n",
    "```"
   ]
  },
  {
   "cell_type": "markdown",
   "id": "33f0b1a9",
   "metadata": {},
   "source": [
    "We can also do some nice basic tables\n",
    "\n",
    "|this|kind of|\n",
    "|----|-------|\n",
    "|remind me|of LaTeX|"
   ]
  },
  {
   "cell_type": "markdown",
   "id": "67de9add",
   "metadata": {},
   "source": [
    "We can also do some footnote stuff [<sup>1</sup>](#fn1)"
   ]
  },
  {
   "cell_type": "markdown",
   "id": "16352784",
   "metadata": {},
   "source": [
    "The references can then be found down here \n",
    "\n",
    "\n",
    "<span id =\"fn1\">[1] Like this one just here </span>"
   ]
  },
  {
   "cell_type": "markdown",
   "id": "21bd19c4",
   "metadata": {},
   "source": [
    "If we want to start a new line we can use <br> to break to the next line"
   ]
  },
  {
   "cell_type": "markdown",
   "id": "68f26583",
   "metadata": {},
   "source": [
    "for weblinks we can put [The web address](http://www.testlink.com)"
   ]
  },
  {
   "cell_type": "markdown",
   "id": "3bdf7346",
   "metadata": {},
   "source": [
    "> We can also\n",
    "> put in these things\n",
    ">> which are sweet indented\n",
    ">>> and i guess somewhat highlighted\n",
    "> blocks of stuff"
   ]
  },
  {
   "cell_type": "markdown",
   "id": "f794bb6f",
   "metadata": {},
   "source": [
    "~the tilda will strikethrough any text~"
   ]
  },
  {
   "cell_type": "markdown",
   "id": "c183019b",
   "metadata": {},
   "source": [
    "For importing pictures its a bit more complicated <br>\n",
    "\n",
    "We need\n",
    "<img src=\"/Users/harry/Documents/MATLAB/COMP0050 Machine Learning/Assignment/Decision Tree Confusion Matrix.png\"/>\n"
   ]
  },
  {
   "cell_type": "markdown",
   "id": "68d24fd4",
   "metadata": {},
   "source": [
    "We can do cool LaTeX like things\n",
    "\\begin{equation}\n",
    "    y = \\min_{y \\in \\mathbb{R}^n} \\sum_{i=1}^{m} \\alpha_{i} y_i\n",
    "\\end{equation}"
   ]
  },
  {
   "cell_type": "code",
   "execution_count": null,
   "id": "79fe8be2",
   "metadata": {},
   "outputs": [],
   "source": []
  }
 ],
 "metadata": {
  "kernelspec": {
   "display_name": "Python 3 (ipykernel)",
   "language": "python",
   "name": "python3"
  },
  "language_info": {
   "codemirror_mode": {
    "name": "ipython",
    "version": 3
   },
   "file_extension": ".py",
   "mimetype": "text/x-python",
   "name": "python",
   "nbconvert_exporter": "python",
   "pygments_lexer": "ipython3",
   "version": "3.9.7"
  },
  "latex_envs": {
   "LaTeX_envs_menu_present": true,
   "autoclose": false,
   "autocomplete": true,
   "bibliofile": "biblio.bib",
   "cite_by": "apalike",
   "current_citInitial": 1,
   "eqLabelWithNumbers": true,
   "eqNumInitial": 1,
   "hotkeys": {
    "equation": "Ctrl-E",
    "itemize": "Ctrl-I"
   },
   "labels_anchors": false,
   "latex_user_defs": false,
   "report_style_numbering": false,
   "user_envs_cfg": false
  }
 },
 "nbformat": 4,
 "nbformat_minor": 5
}
